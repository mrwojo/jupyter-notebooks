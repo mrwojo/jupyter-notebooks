{
 "cells": [
  {
   "cell_type": "markdown",
   "metadata": {},
   "source": [
    "The main goal of [Delta E (Δ*E*)](https://en.wikipedia.org/wiki/Color_difference#Delta_E) was seemingly to test whether two solid color patches would be perceived as equivalent colors. For instance, if a tractor body is composed of \"green\" parts from two separate factories, will those parts appear to be the same green? Smaller values of Delta E suggest a higher probability that a human would say that the colors are the same.\n",
    "\n",
    "However, Delta E is not necessarily a good measure of contrast. Very large values (much greater than 6) might not be in the order you might expect. Some potentially surprising aspects of CIELAB 1976 Delta E are demonstrated below."
   ]
  },
  {
   "cell_type": "code",
   "execution_count": 1,
   "metadata": {
    "collapsed": false
   },
   "outputs": [],
   "source": [
    "%matplotlib inline\n",
    "import matplotlib.pyplot as plt\n",
    "import numpy as np\n",
    "\n",
    "def show_rgb(*args):\n",
    "    \"Plot 1 or more RGB tuples where each value is in range [0 255].\"\n",
    "    im = np.array([args], dtype=np.uint8)\n",
    "    plt.title(str(args))\n",
    "    plt.imshow(im, interpolation='none')\n",
    "    plt.show()"
   ]
  },
  {
   "cell_type": "code",
   "execution_count": 2,
   "metadata": {
    "collapsed": false
   },
   "outputs": [],
   "source": [
    "from colormath.color_objects import sRGBColor, LabColor\n",
    "from colormath.color_conversions import convert_color\n",
    "from colormath.color_diff import delta_e_cie1976"
   ]
  },
  {
   "cell_type": "code",
   "execution_count": 3,
   "metadata": {
    "collapsed": false
   },
   "outputs": [
    {
     "data": {
      "image/png": "[encoded data removed]",
      "text/plain": [
       "<matplotlib.figure.Figure at 0x111d0f750>"
      ]
     },
     "metadata": {},
     "output_type": "display_data"
    }
   ],
   "source": [
    "def lab_from_rgb(rgb):\n",
    "    \"Convert RGB tuple to colormath LabColor object.\"\n",
    "    return convert_color(sRGBColor(*rgb, is_upscaled=True), LabColor)\n",
    "\n",
    "def delta_e_cie1976_rgb(rgb1, rgb2):\n",
    "    \"Return delta E for 2 RGB tuples.\"\n",
    "    return delta_e_cie1976(lab_from_rgb(rgb1), lab_from_rgb(rgb2))\n",
    "\n",
    "white = (0xFF, 0xFF, 0xFF)\n",
    "green = (0, 0xFF, 0)\n",
    "black = (0, 0, 0)\n",
    "\n",
    "show_rgb(white, green, black)"
   ]
  },
  {
   "cell_type": "markdown",
   "metadata": {},
   "source": [
    "Delta E for identical colors should be 0."
   ]
  },
  {
   "cell_type": "code",
   "execution_count": 4,
   "metadata": {
    "collapsed": false
   },
   "outputs": [
    {
     "data": {
      "text/plain": [
       "(0.0, 0.0, 0.0)"
      ]
     },
     "execution_count": 4,
     "metadata": {},
     "output_type": "execute_result"
    }
   ],
   "source": [
    "delta_e_cie1976_rgb(white, white), delta_e_cie1976_rgb(green, green), delta_e_cie1976_rgb(black, black)"
   ]
  },
  {
   "cell_type": "code",
   "execution_count": 5,
   "metadata": {
    "collapsed": false
   },
   "outputs": [
    {
     "data": {
      "text/plain": [
       "120.40810187011418"
      ]
     },
     "execution_count": 5,
     "metadata": {},
     "output_type": "execute_result"
    }
   ],
   "source": [
    "delta_e_cie1976_rgb(white, green)"
   ]
  },
  {
   "cell_type": "code",
   "execution_count": 6,
   "metadata": {
    "collapsed": false
   },
   "outputs": [
    {
     "data": {
      "text/plain": [
       "99.99998490087933"
      ]
     },
     "execution_count": 6,
     "metadata": {},
     "output_type": "execute_result"
    }
   ],
   "source": [
    "delta_e_cie1976_rgb(white, black)"
   ]
  },
  {
   "cell_type": "markdown",
   "metadata": {},
   "source": [
    "White and green are \"more distant\" than white and black.\n",
    "\n",
    "There's a lot space in the greens, which can be demonstrated by finding other large Delta E values. The following generates 216 [web-safe colors](https://en.wikipedia.org/wiki/Web_colors#Web-safe_colors) as a sample, and calculates the Delta E for each distinct pair of colors from that sample."
   ]
  },
  {
   "cell_type": "code",
   "execution_count": 7,
   "metadata": {
    "collapsed": false
   },
   "outputs": [],
   "source": [
    "from itertools import product, combinations\n",
    "\n",
    "# Ye olde \"web-safe\" colors gives us a sample of 6**3 colors.\n",
    "websafe_rgb = np.array(list(product(range(0, 256, 51), repeat=3)))\n",
    "\n",
    "# Pairs of indices into websafe_rgb that we'll use for calculating many delta E values.\n",
    "websafe_pairs = np.array(list(combinations(range(len(websafe_rgb)), 2)))\n",
    "\n",
    "# Delta E values for all unique pairs of websafe colors.\n",
    "websafe_delta_e = [delta_e_cie1976_rgb(websafe_rgb[i], websafe_rgb[j]) for i,j in websafe_pairs]"
   ]
  },
  {
   "cell_type": "markdown",
   "metadata": {},
   "source": [
    "Of these web-safe colors, pure blue and pure green have the maximum Delta E:"
   ]
  },
  {
   "cell_type": "code",
   "execution_count": 8,
   "metadata": {
    "collapsed": false
   },
   "outputs": [
    {
     "data": {
      "image/png": "[encoded data removed]",
      "text/plain": [
       "<matplotlib.figure.Figure at 0x111cfd850>"
      ]
     },
     "metadata": {},
     "output_type": "display_data"
    },
    {
     "name": "stdout",
     "output_type": "stream",
     "text": [
      "Delta E 258.688954675\n"
     ]
    }
   ],
   "source": [
    "max_pair_idx = np.argmax(websafe_delta_e)\n",
    "show_rgb(*websafe_rgb[websafe_pairs[max_pair_idx]])\n",
    "print \"Delta E\", websafe_delta_e[max_pair_idx]"
   ]
  },
  {
   "cell_type": "markdown",
   "metadata": {},
   "source": [
    "Two shades of cyan have the minimum Delta E:"
   ]
  },
  {
   "cell_type": "code",
   "execution_count": 9,
   "metadata": {
    "collapsed": false
   },
   "outputs": [
    {
     "data": {
      "image/png": "[encoded data removed]",
      "text/plain": [
       "<matplotlib.figure.Figure at 0x111da8fd0>"
      ]
     },
     "metadata": {},
     "output_type": "display_data"
    },
    {
     "name": "stdout",
     "output_type": "stream",
     "text": [
      "Delta E 2.18167143021\n"
     ]
    }
   ],
   "source": [
    "min_pair_idx = np.argmin(websafe_delta_e)\n",
    "show_rgb(*websafe_rgb[websafe_pairs[min_pair_idx]])\n",
    "print \"Delta E\", websafe_delta_e[min_pair_idx]"
   ]
  },
  {
   "cell_type": "markdown",
   "metadata": {},
   "source": [
    "A comparison of extremely similar shades of yellow:"
   ]
  },
  {
   "cell_type": "code",
   "execution_count": 10,
   "metadata": {
    "collapsed": false
   },
   "outputs": [
    {
     "data": {
      "image/png": "[encoded data removed]",
      "text/plain": [
       "<matplotlib.figure.Figure at 0x111fd1390>"
      ]
     },
     "metadata": {},
     "output_type": "display_data"
    },
    {
     "name": "stdout",
     "output_type": "stream",
     "text": [
      "Delta E 6.98008359382\n"
     ]
    }
   ],
   "source": [
    "yellow = (0xFF, 0xFF, 0)\n",
    "lt_yellow = (0xFF, 0xFF, 0x33)\n",
    "show_rgb(yellow, lt_yellow)\n",
    "print \"Delta E\", delta_e_cie1976_rgb(yellow, lt_yellow)"
   ]
  }
 ],
 "metadata": {
  "kernelspec": {
   "display_name": "Python 2",
   "language": "python",
   "name": "python2"
  },
  "language_info": {
   "codemirror_mode": {
    "name": "ipython",
    "version": 2
   },
   "file_extension": ".py",
   "mimetype": "text/x-python",
   "name": "python",
   "nbconvert_exporter": "python",
   "pygments_lexer": "ipython2",
   "version": "2.7.11"
  }
 },
 "nbformat": 4,
 "nbformat_minor": 0
}
