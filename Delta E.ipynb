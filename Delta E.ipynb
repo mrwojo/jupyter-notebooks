{
 "cells": [
  {
   "cell_type": "markdown",
   "metadata": {},
   "source": [
    "The main goal of [Delta E (Δ*E*)](https://en.wikipedia.org/wiki/Color_difference#Delta_E) was seemingly to test whether two solid color patches would be perceived as equivalent colors. For instance, if a tractor body is composed of \"green\" parts from two separate factories, will those parts appear to be the same green? Smaller values of Delta E suggest a higher probability that a human would say that the colors are the same.\n",
    "\n",
    "However, Delta E is not necessarily a good measure of contrast. Very large values (much greater than 6) might not be in the order you might expect. As demoed below, the CIELAB 1976 Delta E for white vs. bright green is greater than for white vs. black."
   ]
  },
  {
   "cell_type": "code",
   "execution_count": 1,
   "metadata": {
    "collapsed": false
   },
   "outputs": [],
   "source": [
    "from colormath.color_objects import sRGBColor, LabColor\n",
    "from colormath.color_conversions import convert_color\n",
    "from colormath.color_diff import delta_e_cie1976"
   ]
  },
  {
   "cell_type": "code",
   "execution_count": 2,
   "metadata": {
    "collapsed": false
   },
   "outputs": [],
   "source": [
    "lab_from_rgb = lambda r, g, b: convert_color(sRGBColor(r, g, b), LabColor)\n",
    "\n",
    "white = lab_from_rgb(1, 1, 1)\n",
    "green = lab_from_rgb(0, 1, 0)\n",
    "black = lab_from_rgb(0, 0, 0)"
   ]
  },
  {
   "cell_type": "code",
   "execution_count": 3,
   "metadata": {
    "collapsed": false
   },
   "outputs": [
    {
     "data": {
      "text/plain": [
       "120.40810187011418"
      ]
     },
     "execution_count": 3,
     "metadata": {},
     "output_type": "execute_result"
    }
   ],
   "source": [
    "delta_e_cie1976(white, green)"
   ]
  },
  {
   "cell_type": "code",
   "execution_count": 4,
   "metadata": {
    "collapsed": false
   },
   "outputs": [
    {
     "data": {
      "text/plain": [
       "99.99998490087933"
      ]
     },
     "execution_count": 4,
     "metadata": {},
     "output_type": "execute_result"
    }
   ],
   "source": [
    "delta_e_cie1976(white, black)"
   ]
  }
 ],
 "metadata": {
  "kernelspec": {
   "display_name": "Python 2",
   "language": "python",
   "name": "python2"
  },
  "language_info": {
   "codemirror_mode": {
    "name": "ipython",
    "version": 2
   },
   "file_extension": ".py",
   "mimetype": "text/x-python",
   "name": "python",
   "nbconvert_exporter": "python",
   "pygments_lexer": "ipython2",
   "version": "2.7.9"
  }
 },
 "nbformat": 4,
 "nbformat_minor": 0
}
